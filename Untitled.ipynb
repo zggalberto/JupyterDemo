{
 "cells": [
  {
   "cell_type": "markdown",
   "id": "7a03c5bb-eee7-42b7-a918-8af152c8d7ec",
   "metadata": {},
   "source": [
    "#Testing JupyterLab"
   ]
  },
  {
   "cell_type": "code",
   "execution_count": 4,
   "id": "7b599ff1-ef36-47ae-ade4-ea34f8697a86",
   "metadata": {},
   "outputs": [
    {
     "name": "stdout",
     "output_type": "stream",
     "text": [
      "t, e, s, t, "
     ]
    }
   ],
   "source": [
    "for i in \"test\":\n",
    "    print(str(i)+\", \",end=\"\")\n"
   ]
  },
  {
   "cell_type": "code",
   "execution_count": null,
   "id": "f496f922-c261-44c4-9d06-c8f606fd1ecc",
   "metadata": {},
   "outputs": [],
   "source": []
  }
 ],
 "metadata": {
  "kernelspec": {
   "display_name": "Python 3 (ipykernel)",
   "language": "python",
   "name": "python3"
  },
  "language_info": {
   "codemirror_mode": {
    "name": "ipython",
    "version": 3
   },
   "file_extension": ".py",
   "mimetype": "text/x-python",
   "name": "python",
   "nbconvert_exporter": "python",
   "pygments_lexer": "ipython3",
   "version": "3.8.5"
  }
 },
 "nbformat": 4,
 "nbformat_minor": 5
}
